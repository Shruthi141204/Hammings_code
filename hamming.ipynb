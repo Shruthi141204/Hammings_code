{
 "cells": [
  {
   "cell_type": "code",
   "execution_count": 30,
   "id": "619f6ac5",
   "metadata": {},
   "outputs": [
    {
     "name": "stdout",
     "output_type": "stream",
     "text": [
      "Original data: [0, 1, 1, 0]\n",
      "Encoded codeword [Hamming(7,4)]: [1, 1, 0, 0, 1, 1, 0]\n"
     ]
    }
   ],
   "source": [
    "#Hamming Function\n",
    "def hamming_encode(data):\n",
    "    # Check if input data is exactly 4 bits\n",
    "    if len(data) != 4:\n",
    "        raise ValueError(\"Input data must be exactly 4 bits long\")\n",
    "\n",
    "    # Initialize parity bits to 0\n",
    "    p1 = p2 = p3 = 0\n",
    "\n",
    "    # Calculate parity bits\n",
    "    p1 = data[0] ^ data[1] ^ data[3]\n",
    "    p2 = data[0] ^ data[2] ^ data[3]\n",
    "    p3 = data[1] ^ data[2] ^ data[3]\n",
    "\n",
    "    # Construct the codeword\n",
    "    codeword = [p1, p2, data[0], p3, data[1], data[2], data[3]]\n",
    "\n",
    "    return codeword\n",
    "\n",
    "# Example usage\n",
    "data = [0, 1, 1, 0]  \n",
    "codeword = hamming_encode(data)\n",
    "\n",
    "print(\"Original data:\", data)\n",
    "print(\"Encoded codeword [Hamming(7,4)]:\", codeword)"
   ]
  },
  {
   "cell_type": "code",
   "execution_count": null,
   "id": "07ca9bfa",
   "metadata": {},
   "outputs": [],
   "source": []
  }
 ],
 "metadata": {
  "kernelspec": {
   "display_name": "Python 3 (ipykernel)",
   "language": "python",
   "name": "python3"
  },
  "language_info": {
   "codemirror_mode": {
    "name": "ipython",
    "version": 3
   },
   "file_extension": ".py",
   "mimetype": "text/x-python",
   "name": "python",
   "nbconvert_exporter": "python",
   "pygments_lexer": "ipython3",
   "version": "3.11.4"
  }
 },
 "nbformat": 4,
 "nbformat_minor": 5
}
